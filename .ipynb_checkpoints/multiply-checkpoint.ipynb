{
 "cells": [
  {
   "cell_type": "code",
   "execution_count": null,
   "metadata": {},
   "outputs": [],
   "source": [
    "\n",
    "# using Pkg; Pkg.add(\"GLM\");"
   ]
  },
  {
   "cell_type": "code",
   "execution_count": null,
   "id": "79d5a96f",
   "metadata": {},
   "outputs": [],
   "source": [
    "\n",
    "using DataFrames\n",
    "using GLM\n",
    "using LaTeXStrings\n",
    "using Plots\n",
    "\n",
    "function regress_convergence(h, Z)\n",
    "    df = DataFrame(h=h, Z=Z) # Z = Ch^p\n",
    "    fm = @formula(log(Z) ~ 1 + log(h)) # log(Z) = log(C)*1 + p*log(h)\n",
    "    lr = lm(fm, df) # fit a straight line to the data\n",
    "    lC, p = GLM.coef(lr) # retreive constant coefficients log(C) and p\n",
    "    C = exp(lC)\n",
    "    return p, C\n",
    "end\n",
    "\n",
    "rd(x) = round(x, digits=2) # formatting\n",
    "\n",
    "function sigmoid(delta)\n",
    "    s(x) = 1.0/(1.0+exp(-(x+delta)))\n",
    "    return s\n",
    "end\n",
    "\n",
    "function d2sigmoid(delta)\n",
    "    d2s(x) = 2*exp(-2*(x+delta))/(exp(-(x+delta))+1)^3 - exp(-(x+delta))/(exp(-(x+delta))+1)^2\n",
    "    return d2s\n",
    "end\n",
    "\n",
    "delta = 0.1 # translate so sigma^(k)(0) != 0\n",
    "\n",
    "sigma = sigmoid(delta)\n",
    "poly0(x) = sigma(0.0) # 0-order taylor expansion\n",
    "\n",
    "plot(sigma, -10.0, 10.0)\n",
    "plot!(poly0, -10.0, 10.0, title=\"0-order Taylor expansion\")"
   ]
  },
  {
   "cell_type": "code",
   "execution_count": null,
   "id": "d39674e7",
   "metadata": {},
   "outputs": [],
   "source": [
    "function ds(x)\n",
    "    return exp(-x)/(exp(-x)+1)^2\n",
    "end\n",
    "\n",
    "poly1(x) = poly0(x) + x*ds(0)\n",
    "\n",
    "plot!(poly1, -10.0, 10.0, title=\"1st-order Taylor expansion\")"
   ]
  },
  {
   "cell_type": "code",
   "execution_count": null,
   "id": "f1d71b70",
   "metadata": {},
   "outputs": [],
   "source": [
    "d2sigma = d2sigmoid(0.1)\n",
    "\n",
    "poly2(x) = poly1(x) + (x^2/2)*d2sigma(0)\n",
    "\n",
    "plot!(poly2, -10.0, 10.0, title=\"2nd-order Taylor expansion\")"
   ]
  },
  {
   "cell_type": "code",
   "execution_count": null,
   "id": "921da3e2",
   "metadata": {},
   "outputs": [],
   "source": [
    "delta = 100\n",
    "\n",
    "s = sigmoid(delta)\n",
    "d2s = d2sigmoid(delta)\n",
    "\n",
    "function m(input)\n",
    "    u = input[1]\n",
    "    v = input[2]\n",
    "    return (s(u+v)+s(-u-v)-s(u-v)-s(u+v))/(4*d2s(0))\n",
    "end"
   ]
  },
  {
   "cell_type": "code",
   "execution_count": null,
   "id": "f95fa7cf",
   "metadata": {},
   "outputs": [],
   "source": [
    "# test\n",
    "n = 1000\n",
    "data = rand(n,5);\n",
    "for i in 1:n\n",
    "    u = rand()*10^(-1.0*rand(1:20));\n",
    "    v = u*rand() # rand()*10^(-1.0*rand(1:20));\n",
    "    input = [u; v]\n",
    "    data[i,1] = max(abs(u), abs(v)) #abs(u*v*(u^2+v^2))\n",
    "    data[i,2] = abs(m(input)-u*v)\n",
    "    data[i,3] = u\n",
    "    data[i,4] = v\n",
    "end\n",
    "\n",
    "p, C = regress_convergence(data[:,1], data[:,2])"
   ]
  },
  {
   "cell_type": "code",
   "execution_count": null,
   "id": "fa6808c5",
   "metadata": {},
   "outputs": [],
   "source": [
    "O(h) = C*h^p\n",
    "scatter(data[:,1], data[:,2], yaxis=:log, xaxis=:log, label=L\"\\left(u,|m(u,v)-uv|\\right)\", legend=:outerbottomright, size=(720, 480))\n",
    "plot!(O, minimum(data[:,1]), maximum(data[:,1]), label=L\"\\mathcal{O}(%$(rd(C))*(u)^{%$(rd(p))})\", xlabel=L\"\\mathcal{O}(u)=\\mathcal{O}(v)\", ylabel=L\"|m(u,v)-uv|\", title=L\"y \\approx|\\mathcal{O}((u+v)^2)+\\mathcal{O}((-u-v)^2)+\\mathcal{O}((u-v)^2)+\\mathcal{O}((-u+v)^2)|/(4\\sigma_2)\")"
   ]
  },
  {
   "cell_type": "code",
   "execution_count": null,
   "id": "9157973d",
   "metadata": {},
   "outputs": [],
   "source": [
    "\n",
    "b = delta\n",
    "\n",
    "function A1(x)\n",
    "    W1 = [[+1.0, -1.0, +1.0, -1.0] [+1.0, -1.0, -1.0, +1.0]]\n",
    "    b1 = [b, b, b, b]\n",
    "    return W1*x+b1\n",
    "end\n",
    "\n",
    "function A2(x)\n",
    "    lambda = 0.25*d2s(0)\n",
    "    W2 = lambda * [[1.0] [1.0] [1.0] [1.0]]\n",
    "    b2 = lambda * [-b]\n",
    "    return W2*x+b2\n",
    "end\n",
    "\n",
    "function f(input)\n",
    "    l1 = s.(A1(input))\n",
    "    return A2(l1)\n",
    "end\n",
    "\n",
    "for i in 1:n\n",
    "    u = data[i,3]\n",
    "    v = data[i,4]\n",
    "    input = [u; v]\n",
    "    data[i,5] = abs(sum(f(input))-u*v)\n",
    "end\n",
    "\n",
    "p2, C2 = regress_convergence(data[:,1], data[:,5])"
   ]
  },
  {
   "cell_type": "code",
   "execution_count": null,
   "id": "d7571e2c",
   "metadata": {},
   "outputs": [],
   "source": [
    "O2(h) = C2*h^p2\n",
    "scatter(data[:,1], data[:,5], yaxis=:log, xaxis=:log, label=L\"\\left(u,|f_\\varepsilon(u,v)-uv|\\right)\", legend=:outerbottomright, size=(720, 480))\n",
    "plot!(O, minimum(data[:,1]), maximum(data[:,1]), label=L\"\\mathcal{O}(%$(rd(C2))*(u)^{%$(rd(p2))})\", xlabel=L\"\\mathcal{O}(u)=\\mathcal{O}(v)\", ylabel=L\"|f_\\varepsilon(u,v)-uv|\", title=L\"y \\approx|\\mathcal{O}((u+v)^2)+\\mathcal{O}((-u-v)^2)+\\mathcal{O}((u-v)^2)+\\mathcal{O}((-u+v)^2)|/(4\\sigma_2)\")"
   ]
  },
  {
   "cell_type": "code",
   "execution_count": null,
   "metadata": {},
   "outputs": [],
   "source": []
  }
 ],
 "metadata": {
  "kernelspec": {
   "display_name": "Julia 1.7.1",
   "language": "julia",
   "name": "julia-1.7"
  },
  "language_info": {
   "file_extension": ".jl",
   "mimetype": "application/julia",
   "name": "julia",
   "version": "1.7.2"
  }
 },
 "nbformat": 4,
 "nbformat_minor": 5
}
